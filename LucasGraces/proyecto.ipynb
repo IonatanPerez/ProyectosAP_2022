{
 "cells": [
  {
   "cell_type": "code",
   "execution_count": null,
   "metadata": {},
   "outputs": [],
   "source": [
    "print(\"hola mundo\")\n",
<<<<<<< HEAD
    "print(\"hola\")\n",
    "print(\"gpagnaga\")\n",
    "#fafaf"
=======
    "\n",
    "a = int(input(\"Hola cmom estas: \"))\n",
    "#giojasfkas"
>>>>>>> 0a87dcc34dd65fad1cc43d038f0e7b39046d7c88
   ]
  },
  {
   "cell_type": "markdown",
   "metadata": {},
   "source": [
    "# Muy bien, felicitaciones!"
   ]
  }
 ],
 "metadata": {
  "language_info": {
   "name": "python"
  },
  "orig_nbformat": 4
 },
 "nbformat": 4,
 "nbformat_minor": 2
}
