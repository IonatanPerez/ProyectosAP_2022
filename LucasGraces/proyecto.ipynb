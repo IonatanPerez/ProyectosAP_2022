{
 "cells": [
  {
   "cell_type": "code",
   "execution_count": null,
   "metadata": {},
   "outputs": [],
   "source": [
    "print(\"hola mundo\")\n",
    "\n",
    "a = int(input(\"Hola cmom estas: \"))\n",
    "#giojasfkas"
   ]
  },
  {
   "cell_type": "markdown",
   "metadata": {},
   "source": [
    "# Muy bien, felicitaciones!"
   ]
  }
 ],
 "metadata": {
  "kernelspec": {
   "display_name": "Python 3.10.7 64-bit (microsoft store)",
   "language": "python",
   "name": "python3"
  },
  "language_info": {
   "name": "python",
   "version": "3.10.7"
  },
  "orig_nbformat": 4,
  "vscode": {
   "interpreter": {
    "hash": "32d8f60794f387d4c340bc78833173541b33d7fd64612f89406692d335ceae1a"
   }
  }
 },
 "nbformat": 4,
 "nbformat_minor": 2
}
